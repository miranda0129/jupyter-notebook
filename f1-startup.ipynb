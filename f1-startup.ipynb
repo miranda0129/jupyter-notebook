{
 "cells": [
  {
   "cell_type": "markdown",
   "id": "6eb691d5-10dd-40b3-a9a8-a24499c114f5",
   "metadata": {},
   "source": [
    "# OpenF1"
   ]
  },
  {
   "cell_type": "markdown",
   "id": "8a670b02-9fc3-4ab5-a945-003d0bc2ea6a",
   "metadata": {},
   "source": [
    "Import libraries and set base url to Open F1"
   ]
  },
  {
   "cell_type": "code",
   "execution_count": 5,
   "id": "e1bd8435-041b-4251-b30e-184fa1c9b345",
   "metadata": {},
   "outputs": [],
   "source": [
    "from urllib.request import urlopen\n",
    "from urllib.parse import quote\n",
    "import json\n",
    "import matplotlib.pyplot as plt\n",
    "\n",
    "base_url = \"https://api.openf1.org/v1\""
   ]
  },
  {
   "cell_type": "markdown",
   "id": "25cc6546-3e37-40cd-ad12-2b070ca2e9eb",
   "metadata": {},
   "source": [
    "# Norris v Piastri Chinese GP Lap times"
   ]
  },
  {
   "cell_type": "markdown",
   "id": "43271a7d-e06f-442b-9f2c-63487884d939",
   "metadata": {},
   "source": [
    "1. Get driver numbers"
   ]
  },
  {
   "cell_type": "markdown",
   "id": "21de9720-312e-4c1e-beea-fa22129c7f92",
   "metadata": {},
   "source": [
    "Noris driver number: 4"
   ]
  },
  {
   "cell_type": "markdown",
   "id": "9ea67a28-8065-42b7-84f0-520afedaccac",
   "metadata": {},
   "source": [
    "Piastri driver number: 81"
   ]
  },
  {
   "cell_type": "markdown",
   "id": "fde99bac-7825-44ad-843b-dac458a18f90",
   "metadata": {},
   "source": [
    "2. Get session id"
   ]
  },
  {
   "cell_type": "code",
   "execution_count": 6,
   "id": "7634dcaa-e1c6-4622-97c5-50b559bddca2",
   "metadata": {},
   "outputs": [
    {
     "name": "stdout",
     "output_type": "stream",
     "text": [
      "[{'session_key': 9998, 'session_name': 'Race', 'date_start': '2025-03-23T07:00:00+00:00', 'date_end': '2025-03-23T09:00:00+00:00', 'gmt_offset': '08:00:00', 'session_type': 'Race', 'meeting_key': 1255, 'location': 'Shanghai', 'country_key': 53, 'country_code': 'CHN', 'country_name': 'China', 'circuit_key': 49, 'circuit_short_name': 'Shanghai', 'year': 2025}]\n",
      "Session key: 9998\n"
     ]
    }
   ],
   "source": [
    "country_name = \"China\"\n",
    "session_name = quote(\"Race\") #url encoded\n",
    "year = 2025\n",
    "\n",
    "response = urlopen(base_url +'/sessions?country_name=' +country_name +'&session_name=' +session_name +'&year=' +str(year))\n",
    "data = json.loads(response.read().decode('utf-8'))\n",
    "\n",
    "print(data)\n",
    "\n",
    "session_key = data[0]['session_key']\n",
    "print('Session key: ' +str(session_key))"
   ]
  },
  {
   "cell_type": "markdown",
   "id": "680f716f-8d98-4593-bbab-2c5eff53fd44",
   "metadata": {},
   "source": [
    "3. Get first lap time"
   ]
  },
  {
   "cell_type": "code",
   "execution_count": 7,
   "id": "cbc6311b-ded5-40fb-bee5-57c03d765f19",
   "metadata": {},
   "outputs": [
    {
     "name": "stdout",
     "output_type": "stream",
     "text": [
      "97.713\n"
     ]
    },
    {
     "ename": "NameError",
     "evalue": "name 'driver_number' is not defined",
     "output_type": "error",
     "traceback": [
      "\u001b[31m---------------------------------------------------------------------------\u001b[39m",
      "\u001b[31mNameError\u001b[39m                                 Traceback (most recent call last)",
      "\u001b[36mCell\u001b[39m\u001b[36m \u001b[39m\u001b[32mIn[7]\u001b[39m\u001b[32m, line 21\u001b[39m\n\u001b[32m     18\u001b[39m     norris_lap_time_ms.append(lap_duration)\n\u001b[32m     20\u001b[39m \u001b[38;5;66;03m#piastri lap 1\u001b[39;00m\n\u001b[32m---> \u001b[39m\u001b[32m21\u001b[39m response = urlopen(base_url +\u001b[33m'\u001b[39m\u001b[33m/laps?session_key=\u001b[39m\u001b[33m'\u001b[39m +\u001b[38;5;28mstr\u001b[39m(sesson_key) +\u001b[33m'\u001b[39m\u001b[33m&driver_number=\u001b[39m\u001b[33m'\u001b[39m +\u001b[38;5;28mstr\u001b[39m(\u001b[43mdriver_number\u001b[49m) +\u001b[33m'\u001b[39m\u001b[33m&lap_number=\u001b[39m\u001b[33m'\u001b[39m +\u001b[38;5;28mstr\u001b[39m(lap_number))\n\u001b[32m     22\u001b[39m data = json.loads(response.read().decode(\u001b[33m'\u001b[39m\u001b[33mutf-8\u001b[39m\u001b[33m'\u001b[39m))\n\u001b[32m     24\u001b[39m \u001b[38;5;66;03m#single lap as per request\u001b[39;00m\n",
      "\u001b[31mNameError\u001b[39m: name 'driver_number' is not defined"
     ]
    }
   ],
   "source": [
    "sesson_key = 9998\n",
    "norris_driver_number = 4\n",
    "piastri_driver_number = 81\n",
    "\n",
    "norris_lap_time_ms = []\n",
    "piastri_lap_time_ms = []\n",
    "\n",
    "lap_number = 2\n",
    "\n",
    "#norris lap 1\n",
    "response = urlopen(base_url +'/laps?session_key=' +str(sesson_key) +'&driver_number=' +str(norris_driver_number) +'&lap_number=' +str(lap_number))\n",
    "data = json.loads(response.read().decode('utf-8'))\n",
    "\n",
    "#single lap as per request\n",
    "for lap in data:\n",
    "    lap_duration = lap['lap_duration']\n",
    "    print(lap_duration)\n",
    "    norris_lap_time_ms.append(lap_duration)\n",
    "\n",
    "#piastri lap 1\n",
    "response = urlopen(base_url +'/laps?session_key=' +str(sesson_key) +'&driver_number=' +str(driver_number) +'&lap_number=' +str(lap_number))\n",
    "data = json.loads(response.read().decode('utf-8'))\n",
    "    \n",
    "#single lap as per request\n",
    "for lap in data:\n",
    "    lap_duration = lap['lap_duration']\n",
    "    print(lap_duration)\n",
    "    norris_lap_time_ms.append(lap_duration)\n",
    "\n",
    "    \n",
    "    print(\"~~~~~~\")\n",
    "print(norris_lap_time_ms)"
   ]
  },
  {
   "cell_type": "markdown",
   "id": "a45d8222-3159-4af6-aeae-3055b3602ac8",
   "metadata": {},
   "source": [
    "4. Loop for 56 laps"
   ]
  },
  {
   "cell_type": "code",
   "execution_count": null,
   "id": "ea909e51-067b-452c-9893-64ea47a9b951",
   "metadata": {},
   "outputs": [],
   "source": [
    "sesson_key = 9998\n",
    "norris_driver_number = 4\n",
    "piastri_driver_number = 81\n",
    "\n",
    "norris_lap_time_s = []\n",
    "piastri_lap_time_s = []\n",
    "\n",
    "#norris laps\n",
    "print(\"~~ Lando's lap times ~~\")\n",
    "response = urlopen(base_url +'/laps?session_key=' +str(sesson_key) +'&driver_number=' +str(norris_driver_number))\n",
    "data = json.loads(response.read().decode('utf-8'))\n",
    "\n",
    "#single lap as per request\n",
    "for lap in data:\n",
    "    lap_duration = lap['lap_duration']\n",
    "    #print(lap_duration)\n",
    "    norris_lap_time_s.append(lap_duration)\n",
    "\n",
    "print(norris_lap_time_ms)\n",
    "print(f\"Number of laps: {len(norris_lap_time_ms)}\")\n",
    "print(\"\")\n",
    "\n",
    "#piastri laps\n",
    "print(\"~~ Oscar's lap times ~~\")\n",
    "response = urlopen(base_url +'/laps?session_key=' +str(sesson_key) +'&driver_number=' +str(driver_number))\n",
    "data = json.loads(response.read().decode('utf-8'))\n",
    "    \n",
    "#single lap as per request\n",
    "for lap in data:\n",
    "    lap_duration = lap['lap_duration']\n",
    "    #print(lap_duration)\n",
    "    piastri_lap_time_s.append(lap_duration)\n",
    "\n",
    "    \n",
    "print(piastri_lap_time_ms)\n",
    "print(f\"Number of laps: {len(piastri_lap_time_ms)}\")"
   ]
  },
  {
   "cell_type": "markdown",
   "id": "21e46cb1-ae72-4fcb-95ce-f168e5befe6e",
   "metadata": {},
   "source": [
    "6. Graph the 2 lists"
   ]
  },
  {
   "cell_type": "code",
   "execution_count": null,
   "id": "7614a749-317b-4b1a-81bd-a15da53f5055",
   "metadata": {},
   "outputs": [],
   "source": [
    "# x axis values\n",
    "x = list(range(0, 56))\n",
    "\n",
    "# plotting the points \n",
    "plt.plot(x, norris_lap_time_s, label = \"Norris lap times\")\n",
    "plt.plot(x, piastri_lap_time_s, label = \"Piastri lap times\")\n",
    "\n",
    "# naming the x axis\n",
    "plt.xlabel('lap number')\n",
    "# naming the y axis\n",
    "plt.ylabel('time (s)')\n",
    "\n",
    "# giving a title to my graph\n",
    "plt.title('2025 Chinese GP Lap times')\n",
    "plt.legend()\n",
    "\n",
    "# function to show the plot\n",
    "plt.show()"
   ]
  },
  {
   "cell_type": "markdown",
   "id": "28bd2235-2d83-418f-9f21-c4b3fa07d33c",
   "metadata": {},
   "source": [
    "# Tsunoda @ Suzuka - 2024 v 2025"
   ]
  },
  {
   "cell_type": "markdown",
   "id": "b715e103-b3d9-4fef-b926-a394449d36e7",
   "metadata": {},
   "source": [
    "Driver number: 22"
   ]
  },
  {
   "cell_type": "markdown",
   "id": "92fe14ed-8c47-4443-a4e7-6b94d9610aeb",
   "metadata": {},
   "source": [
    "No of laps: 53"
   ]
  },
  {
   "cell_type": "markdown",
   "id": "55634ae9-665d-4107-9d12-f7602c652464",
   "metadata": {},
   "source": [
    "Get session id"
   ]
  },
  {
   "cell_type": "code",
   "execution_count": null,
   "id": "df4a662b-e475-4c3f-9e99-043791fd3122",
   "metadata": {},
   "outputs": [],
   "source": [
    "country_name = \"Japan\"\n",
    "session_name = quote(\"Race\")\n",
    "\n",
    "def get_session_id(year):\n",
    "    response = urlopen(base_url +'/sessions?country_name=' +country_name +'&session_name=' +session_name +'&year=' +str(year))\n",
    "    return json.loads(response.read().decode('utf-8'))\n",
    "\n",
    "session_2024 = get_session_id(2024)\n",
    "session_key = session_2024[0]['session_key']\n",
    "print('2024 Race session key: ' +str(session_key))\n",
    "\n",
    "#TODO: UPDATE TO 2025 SESSION KEY - NOT AVAILABLE YET\n",
    "# session_2025 = get_session_id(2025)\n",
    "# session_key = session_2025[0]['session_key']\n",
    "# print('2025 Race session key: ' +str(session_key))"
   ]
  },
  {
   "cell_type": "markdown",
   "id": "a5d4f7ae-8f47-4b85-87b0-e1b6e6cb701e",
   "metadata": {},
   "source": [
    "Lap times for Suzuka 2024, Yuki in Racing Bulls"
   ]
  },
  {
   "cell_type": "code",
   "execution_count": 8,
   "id": "e8c3c62d-556f-44bf-af2b-8490ca018d85",
   "metadata": {},
   "outputs": [
    {
     "name": "stdout",
     "output_type": "stream",
     "text": [
      "~~ Yuki's lap times ~~\n",
      "[None, None, None, None, 99.508, 98.887, 100.998, 118.044, 97.17, 97.496, 97.895, 100.057, 98.98, 98.51, 99.925, 100.096, 97.944, 99.27, 99.658, 99.1, 99.562, 101.916, 117.251, 96.637, 97.073, 97.037, 97.184, 97.227, 97.319, 97.617, 97.676, 98.624, 98.692, 97.793, 97.626, 97.103, 97.419, 97.442, 97.595, 97.441, 97.297, 97.493, 97.498, 97.329, 97.25, 97.046, 97.106, 97.038, 96.557, 96.388, 96.342, 98.195]\n",
      "Number of laps: 52\n"
     ]
    }
   ],
   "source": [
    "def get_lap_times(session_key, driver_number):\n",
    "    lap_time_s = []\n",
    "    response = urlopen(base_url +'/laps?session_key=' +str(session_key) +'&driver_number=' +str(yuki_driver_number))\n",
    "    data = json.loads(response.read().decode('utf-8'))\n",
    "\n",
    "    for lap in data:\n",
    "        lap_duration = lap['lap_duration']\n",
    "        lap_time_s.append(lap_duration)\n",
    "\n",
    "    return lap_time_s\n",
    "\n",
    "session_key = 9496\n",
    "yuki_driver_number = 22\n",
    "\n",
    "print(\"~~ Yuki's lap times ~~\")\n",
    "yuki_lap_time_s = get_lap_times(session_key, yuki_driver_number)\n",
    "yuki_lap_time_s[1] = None\n",
    "yuki_lap_time_s[2] = None\n",
    "yuki_lap_time_s[3] = None\n",
    "print(yuki_lap_time_s)\n",
    "print(f\"Number of laps: {len(yuki_lap_time_s)}\")"
   ]
  },
  {
   "cell_type": "markdown",
   "id": "5bab5c0a-804c-42db-86eb-66544dad568f",
   "metadata": {},
   "source": [
    "Lap times for Suzuka 2025, Yuki in Red Bull"
   ]
  },
  {
   "cell_type": "code",
   "execution_count": 10,
   "id": "bd2252ff-2cb9-4e03-b8e1-5da9ee14294d",
   "metadata": {},
   "outputs": [
    {
     "data": {
      "image/png": "[encoded data removed]",
      "text/plain": [
       "<Figure size 640x480 with 1 Axes>"
      ]
     },
     "metadata": {},
     "output_type": "display_data"
    }
   ],
   "source": [
    "# x axis values\n",
    "x = list(range(0, 52))\n",
    "\n",
    "# plotting the points \n",
    "plt.plot(x, yuki_lap_time_s, label = \"2024, in Racing Bulls car\")\n",
    "\n",
    "# naming the x axis\n",
    "plt.xlabel('lap number')\n",
    "# naming the y axis\n",
    "plt.ylabel('time (s)')\n",
    "\n",
    "# giving a title to my graph\n",
    "plt.title('TSU Japan Lap Times, 2024')\n",
    "plt.legend()\n",
    "\n",
    "# function to show the plot\n",
    "plt.show()"
   ]
  },
  {
   "cell_type": "code",
   "execution_count": null,
   "id": "d91c7295-83a8-4e52-9a9f-69c881f13baf",
   "metadata": {},
   "outputs": [],
   "source": []
  }
 ],
 "metadata": {
  "kernelspec": {
   "display_name": "Python 3 (ipykernel)",
   "language": "python",
   "name": "python3"
  },
  "language_info": {
   "codemirror_mode": {
    "name": "ipython",
    "version": 3
   },
   "file_extension": ".py",
   "mimetype": "text/x-python",
   "name": "python",
   "nbconvert_exporter": "python",
   "pygments_lexer": "ipython3",
   "version": "3.12.3"
  }
 },
 "nbformat": 4,
 "nbformat_minor": 5
}
