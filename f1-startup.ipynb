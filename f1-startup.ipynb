{
 "cells": [
  {
   "cell_type": "markdown",
   "id": "6eb691d5-10dd-40b3-a9a8-a24499c114f5",
   "metadata": {},
   "source": [
    "# OpenF1"
   ]
  },
  {
   "cell_type": "markdown",
   "id": "8a670b02-9fc3-4ab5-a945-003d0bc2ea6a",
   "metadata": {},
   "source": [
    "Import libraries and set base url to Open F1"
   ]
  },
  {
   "cell_type": "code",
   "execution_count": 6,
   "id": "e1bd8435-041b-4251-b30e-184fa1c9b345",
   "metadata": {},
   "outputs": [],
   "source": [
    "from urllib.request import urlopen\n",
    "from urllib.parse import quote\n",
    "import json\n",
    "import matplotlib.pyplot as plt\n",
    "\n",
    "base_url = \"https://api.openf1.org/v1\""
   ]
  },
  {
   "cell_type": "markdown",
   "id": "25cc6546-3e37-40cd-ad12-2b070ca2e9eb",
   "metadata": {},
   "source": [
    "# Norris v Piastri Chinese GP Lap times"
   ]
  },
  {
   "cell_type": "markdown",
   "id": "43271a7d-e06f-442b-9f2c-63487884d939",
   "metadata": {},
   "source": [
    "1. Get driver numbers"
   ]
  },
  {
   "cell_type": "markdown",
   "id": "21de9720-312e-4c1e-beea-fa22129c7f92",
   "metadata": {},
   "source": [
    "Noris driver number: 4"
   ]
  },
  {
   "cell_type": "markdown",
   "id": "9ea67a28-8065-42b7-84f0-520afedaccac",
   "metadata": {},
   "source": [
    "Piastri driver number: 81"
   ]
  },
  {
   "cell_type": "markdown",
   "id": "fde99bac-7825-44ad-843b-dac458a18f90",
   "metadata": {},
   "source": [
    "2. Get session id"
   ]
  },
  {
   "cell_type": "code",
   "execution_count": 8,
   "id": "7634dcaa-e1c6-4622-97c5-50b559bddca2",
   "metadata": {},
   "outputs": [
    {
     "name": "stdout",
     "output_type": "stream",
     "text": [
      "[{'session_key': 9998, 'session_name': 'Race', 'date_start': '2025-03-23T07:00:00+00:00', 'date_end': '2025-03-23T09:00:00+00:00', 'gmt_offset': '08:00:00', 'session_type': 'Race', 'meeting_key': 1255, 'location': 'Shanghai', 'country_key': 53, 'country_code': 'CHN', 'country_name': 'China', 'circuit_key': 49, 'circuit_short_name': 'Shanghai', 'year': 2025}]\n",
      "Session key: 9998\n"
     ]
    }
   ],
   "source": [
    "country_name = \"China\"\n",
    "session_name = quote(\"Race\") #url encoded\n",
    "year = 2025\n",
    "\n",
    "response = urlopen(base_url +'/sessions?country_name=' +country_name +'&session_name=' +session_name +'&year=' +str(year))\n",
    "data = json.loads(response.read().decode('utf-8'))\n",
    "\n",
    "print(data)\n",
    "\n",
    "session_key = data[0]['session_key']\n",
    "print('Session key: ' +str(session_key))"
   ]
  },
  {
   "cell_type": "markdown",
   "id": "680f716f-8d98-4593-bbab-2c5eff53fd44",
   "metadata": {},
   "source": [
    "3. Get first lap time"
   ]
  },
  {
   "cell_type": "code",
   "execution_count": 21,
   "id": "cbc6311b-ded5-40fb-bee5-57c03d765f19",
   "metadata": {},
   "outputs": [
    {
     "name": "stdout",
     "output_type": "stream",
     "text": [
      "97.713\n",
      "97.463\n",
      "~~~~~~\n",
      "[97.713, 97.463]\n"
     ]
    }
   ],
   "source": [
    "sesson_key = 9998\n",
    "norris_driver_number = 4\n",
    "piastri_driver_number = 81\n",
    "\n",
    "norris_lap_time_ms = []\n",
    "piastri_lap_time_ms = []\n",
    "\n",
    "lap_number = 2\n",
    "\n",
    "#norris lap 1\n",
    "response = urlopen(base_url +'/laps?session_key=' +str(sesson_key) +'&driver_number=' +str(norris_driver_number) +'&lap_number=' +str(lap_number))\n",
    "data = json.loads(response.read().decode('utf-8'))\n",
    "\n",
    "#single lap as per request\n",
    "for lap in data:\n",
    "    lap_duration = lap['lap_duration']\n",
    "    print(lap_duration)\n",
    "    norris_lap_time_ms.append(lap_duration)\n",
    "\n",
    "#piastri lap 1\n",
    "response = urlopen(base_url +'/laps?session_key=' +str(sesson_key) +'&driver_number=' +str(driver_number) +'&lap_number=' +str(lap_number))\n",
    "data = json.loads(response.read().decode('utf-8'))\n",
    "    \n",
    "#single lap as per request\n",
    "for lap in data:\n",
    "    lap_duration = lap['lap_duration']\n",
    "    print(lap_duration)\n",
    "    norris_lap_time_ms.append(lap_duration)\n",
    "\n",
    "    \n",
    "    print(\"~~~~~~\")\n",
    "print(norris_lap_time_ms)"
   ]
  },
  {
   "cell_type": "markdown",
   "id": "a45d8222-3159-4af6-aeae-3055b3602ac8",
   "metadata": {},
   "source": [
    "4. Loop for 56 laps"
   ]
  },
  {
   "cell_type": "code",
   "execution_count": 28,
   "id": "ea909e51-067b-452c-9893-64ea47a9b951",
   "metadata": {},
   "outputs": [
    {
     "name": "stdout",
     "output_type": "stream",
     "text": [
      "~~ Lando's lap times ~~\n",
      "[None, 97.713, 97.597, 97.719, 97.917, 97.856, 98.174, 98.287, 98.514, 98.316, 98.118, 98.197, 98.349, 98.389, 103.269, 115.657, 97.432, 97.477, 97.679, 98.122, 97.979, 97.336, 97.321, 96.952, 97.357, 97.132, 96.754, 96.509, 96.531, 96.335, 96.367, 96.862, 96.774, 97.195, 96.854, 96.316, 96.274, 96.192, 96.217, 96.397, 96.661, 96.868, 96.971, 96.743, 96.396, 96.07, 95.857, 95.708, 95.666, 95.675, 95.9, 95.851, 95.454, 96.872, 98.96, 99.418]\n",
      "Number of laps: 56\n",
      "\n",
      "~~ Oscar's lap times ~~\n",
      "[None, 97.463, 97.774, 97.643, 97.821, 98.463, 98.464, 98.715, 98.557, 98.438, 98.375, 98.391, 98.211, 103.046, 114.236, 96.812, 97.85, 98.865, 97.929, 98.472, 97.964, 97.335, 97.155, 97.334, 97.399, 97.284, 97.057, 96.908, 96.661, 97.19, 96.983, 97.2, 97.1, 96.853, 96.664, 96.688, 96.739, 96.581, 96.548, 96.488, 96.471, 96.337, 96.459, 96.576, 96.574, 96.3, 96.283, 96.192, 96.106, 96.166, 96.208, 96.385, 96.504, 95.9, 95.816, 95.908]\n",
      "Number of laps: 56\n"
     ]
    }
   ],
   "source": [
    "sesson_key = 9998\n",
    "norris_driver_number = 4\n",
    "piastri_driver_number = 81\n",
    "\n",
    "norris_lap_time_s = []\n",
    "piastri_lap_time_s = []\n",
    "\n",
    "#norris laps\n",
    "print(\"~~ Lando's lap times ~~\")\n",
    "response = urlopen(base_url +'/laps?session_key=' +str(sesson_key) +'&driver_number=' +str(norris_driver_number))\n",
    "data = json.loads(response.read().decode('utf-8'))\n",
    "\n",
    "#single lap as per request\n",
    "for lap in data:\n",
    "    lap_duration = lap['lap_duration']\n",
    "    #print(lap_duration)\n",
    "    norris_lap_time_s.append(lap_duration)\n",
    "\n",
    "print(norris_lap_time_ms)\n",
    "print(f\"Number of laps: {len(norris_lap_time_ms)}\")\n",
    "print(\"\")\n",
    "\n",
    "#piastri laps\n",
    "print(\"~~ Oscar's lap times ~~\")\n",
    "response = urlopen(base_url +'/laps?session_key=' +str(sesson_key) +'&driver_number=' +str(driver_number))\n",
    "data = json.loads(response.read().decode('utf-8'))\n",
    "    \n",
    "#single lap as per request\n",
    "for lap in data:\n",
    "    lap_duration = lap['lap_duration']\n",
    "    #print(lap_duration)\n",
    "    piastri_lap_time_s.append(lap_duration)\n",
    "\n",
    "    \n",
    "print(piastri_lap_time_ms)\n",
    "print(f\"Number of laps: {len(piastri_lap_time_ms)}\")"
   ]
  },
  {
   "cell_type": "markdown",
   "id": "21e46cb1-ae72-4fcb-95ce-f168e5befe6e",
   "metadata": {},
   "source": [
    "6. Graph the 2 lists"
   ]
  },
  {
   "cell_type": "code",
   "execution_count": 29,
   "id": "7614a749-317b-4b1a-81bd-a15da53f5055",
   "metadata": {},
   "outputs": [
    {
     "data": {
      "image/png": "[encoded data removed]",
      "text/plain": [
       "<Figure size 640x480 with 1 Axes>"
      ]
     },
     "metadata": {},
     "output_type": "display_data"
    }
   ],
   "source": [
    "# x axis values\n",
    "x = list(range(0, 56))\n",
    "\n",
    "# plotting the points \n",
    "plt.plot(x, norris_lap_time_s, label = \"Norris lap times\")\n",
    "plt.plot(x, piastri_lap_time_s, label = \"Piastri lap times\")\n",
    "\n",
    "# naming the x axis\n",
    "plt.xlabel('lap number')\n",
    "# naming the y axis\n",
    "plt.ylabel('time (s)')\n",
    "\n",
    "# giving a title to my graph\n",
    "plt.title('2025 Chinese GP Lap times')\n",
    "plt.legend()\n",
    "\n",
    "# function to show the plot\n",
    "plt.show()"
   ]
  },
  {
   "cell_type": "markdown",
   "id": "28bd2235-2d83-418f-9f21-c4b3fa07d33c",
   "metadata": {},
   "source": [
    "# Tsunoda @ Suzuka - 2024 v 2025"
   ]
  },
  {
   "cell_type": "markdown",
   "id": "b715e103-b3d9-4fef-b926-a394449d36e7",
   "metadata": {},
   "source": [
    "Driver number: 22"
   ]
  },
  {
   "cell_type": "markdown",
   "id": "a5d4f7ae-8f47-4b85-87b0-e1b6e6cb701e",
   "metadata": {},
   "source": [
    "Lap times for Suzuka 2024, Yuki in Racing Bulls"
   ]
  },
  {
   "cell_type": "markdown",
   "id": "5bab5c0a-804c-42db-86eb-66544dad568f",
   "metadata": {},
   "source": [
    "Lap times for Suzuka 2025, Yuki in Red Bull"
   ]
  },
  {
   "cell_type": "code",
   "execution_count": null,
   "id": "bd2252ff-2cb9-4e03-b8e1-5da9ee14294d",
   "metadata": {},
   "outputs": [],
   "source": []
  }
 ],
 "metadata": {
  "kernelspec": {
   "display_name": "Python 3 (ipykernel)",
   "language": "python",
   "name": "python3"
  },
  "language_info": {
   "codemirror_mode": {
    "name": "ipython",
    "version": 3
   },
   "file_extension": ".py",
   "mimetype": "text/x-python",
   "name": "python",
   "nbconvert_exporter": "python",
   "pygments_lexer": "ipython3",
   "version": "3.13.0"
  }
 },
 "nbformat": 4,
 "nbformat_minor": 5
}
